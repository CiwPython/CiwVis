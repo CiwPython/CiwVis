{
 "cells": [
  {
   "cell_type": "code",
   "execution_count": 1,
   "metadata": {
    "collapsed": true
   },
   "outputs": [],
   "source": [
    "import ciw\n",
    "import pickle\n",
    "import tqdm"
   ]
  },
  {
   "cell_type": "code",
   "execution_count": 2,
   "metadata": {
    "collapsed": true
   },
   "outputs": [],
   "source": [
    "dirname = 'sampledata1'"
   ]
  },
  {
   "cell_type": "code",
   "execution_count": 4,
   "metadata": {
    "collapsed": false
   },
   "outputs": [],
   "source": [
    "params = {\n",
    "    'Arrival_distributions': {\n",
    "        'Class 0': [['Exponential', 5.0]],\n",
    "    },\n",
    "    'Service_distributions': {\n",
    "        'Class 0': [['Exponential', 10.0]],\n",
    "    },\n",
    "    'Transition_matrices': {\n",
    "        'Class 0': [[0.0]],\n",
    "    },\n",
    "    'Number_of_servers': [1]\n",
    "}"
   ]
  },
  {
   "cell_type": "code",
   "execution_count": 5,
   "metadata": {
    "collapsed": true
   },
   "outputs": [],
   "source": [
    "def save_object(obj, filename):\n",
    "    with open(filename, 'wb') as output:\n",
    "        pickle.dump(obj, output, pickle.HIGHEST_PROTOCOL)"
   ]
  },
  {
   "cell_type": "code",
   "execution_count": 6,
   "metadata": {
    "collapsed": false
   },
   "outputs": [
    {
     "name": "stderr",
     "output_type": "stream",
     "text": [
      "100%|██████████| 4/4 [00:00<00:00, 15.61it/s]\n"
     ]
    }
   ],
   "source": [
    "for i in tqdm.tqdm(range(4)):\n",
    "    N = ciw.create_network(params)\n",
    "    Q = ciw.Simulation(N)\n",
    "    Q.simulate_until_max_time(100)\n",
    "    recs = Q.get_all_records()\n",
    "    save_object(recs, dirname + '/data_' + str(i) + '.pkl')"
   ]
  },
  {
   "cell_type": "code",
   "execution_count": 8,
   "metadata": {
    "collapsed": false
   },
   "outputs": [
    {
     "data": {
      "text/plain": [
       "Record(id_number=1, customer_class=0, node=1, arrival_date=0.3498813016913443, waiting_time=0.0, service_start_date=0.3498813016913443, service_time=0.19611286773986863, service_end_date=0.5459941694312129, time_blocked=0.0, exit_date=0.5459941694312129, destination=-1, queue_size_at_arrival=0, queue_size_at_departure=2)"
      ]
     },
     "execution_count": 8,
     "metadata": {},
     "output_type": "execute_result"
    }
   ],
   "source": [
    "recs[0]"
   ]
  },
  {
   "cell_type": "code",
   "execution_count": 11,
   "metadata": {
    "collapsed": false
   },
   "outputs": [],
   "source": [
    "params_full = ciw.fill_out_dictionary(params)"
   ]
  },
  {
   "cell_type": "code",
   "execution_count": 12,
   "metadata": {
    "collapsed": true
   },
   "outputs": [],
   "source": [
    "save_object(params_full, dirname + '/params.pkl')"
   ]
  }
 ],
 "metadata": {
  "kernelspec": {
   "display_name": "Python 3",
   "language": "python",
   "name": "python3"
  },
  "language_info": {
   "codemirror_mode": {
    "name": "ipython",
    "version": 3
   },
   "file_extension": ".py",
   "mimetype": "text/x-python",
   "name": "python",
   "nbconvert_exporter": "python",
   "pygments_lexer": "ipython3",
   "version": "3.5.1"
  }
 },
 "nbformat": 4,
 "nbformat_minor": 0
}
